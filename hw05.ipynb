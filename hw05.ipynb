{
 "cells": [
  {
   "cell_type": "code",
   "execution_count": 38,
   "id": "fe0dc59f",
   "metadata": {
    "deletable": false,
    "editable": false
   },
   "outputs": [],
   "source": [
    "# Initialize Otter\n",
    "import otter\n",
    "grader = otter.Notebook(\"hw05.ipynb\")"
   ]
  },
  {
   "cell_type": "markdown",
   "id": "18b5e19e",
   "metadata": {},
   "source": [
    "# Homework 5: Applying Functions and Iteration\n",
    "\n",
    "Please complete this notebook by filling in the cells provided. Before you begin, execute the previous cell to load the provided tests."
   ]
  },
  {
   "cell_type": "markdown",
   "id": "740d1ab2",
   "metadata": {},
   "source": [
    "**Helpful Resource:**\n",
    "- [Python Reference](http://data8.org/sp22/python-reference.html): Cheat sheet of helpful array & table methods used in Data 8!\n",
    "\n",
    "**Recommended Readings**: \n",
    "\n",
    "* [Tabular Thinking Guide](https://drive.google.com/file/d/13HaWu4rrjeowEOs6S_vaQGM3GremzXQ3/view?usp=sharing)\n",
    "* [Applying Functions](https://www.inferentialthinking.com/chapters/08/1/Applying_a_Function_to_a_Column.html)\n",
    "* [Conditionals](https://www.inferentialthinking.com/chapters/09/1/Conditional_Statements.html)\n",
    "* [Iteration](https://www.inferentialthinking.com/chapters/09/2/Iteration.html)"
   ]
  },
  {
   "cell_type": "markdown",
   "id": "121e7f0e",
   "metadata": {},
   "source": [
    "Please complete this notebook by filling in the cells provided. Before you begin, execute the following cell to setup the notebook by importing some helpful libraries. Each time you start your server, you will need to execute this cell again.\n",
    "\n",
    "For all problems that you must write explanations and sentences for, you **must** provide your answer in the designated space. **Moreover, throughout this homework and all future ones, please be sure to not re-assign variables throughout the notebook!** For example, if you use `max_temperature` in your answer to one question, do not reassign it later on. Otherwise, you will fail tests that you thought you were passing previously!\n",
    "\n",
    "\n",
    "**Note: This homework has hidden tests on it. That means even though the tests may say 100% passed, it doesn't mean your final grade will be 100%. We will be running more tests for correctness once everyone turns in the homework.**\n",
    "\n",
    "\n",
    "Directly sharing answers is not okay, but discussing problems with the course staff or with other students is encouraged. \n",
    "\n",
    "You should start early so that you have time to get help if you're stuck."
   ]
  },
  {
   "cell_type": "markdown",
   "id": "faabb75d",
   "metadata": {},
   "source": [
    "## 1. 2021 Cal Football Season"
   ]
  },
  {
   "cell_type": "code",
   "execution_count": 39,
   "id": "2978f8b1",
   "metadata": {
    "execution": {
     "iopub.execute_input": "2022-02-16T22:50:19.972612Z",
     "iopub.status.busy": "2022-02-16T22:50:19.971675Z",
     "iopub.status.idle": "2022-02-16T22:50:21.473863Z",
     "shell.execute_reply": "2022-02-16T22:50:21.474499Z"
    }
   },
   "outputs": [],
   "source": [
    "# Run this cell to set up the notebook, but please don't change it.\n",
    "\n",
    "# These lines import the numpy and datascience modules.\n",
    "import numpy as np\n",
    "from datascience import *\n",
    "import d8error\n",
    "import warnings\n",
    "warnings.simplefilter('ignore', FutureWarning)"
   ]
  },
  {
   "cell_type": "markdown",
   "id": "55df9a16",
   "metadata": {},
   "source": [
    "James is trying to analyze how well the Cal football team performed in the 2021 season. A football game is divided into four periods, called quarters. The number of points Cal scored in each quarter and the number of points their opponent scored in each quarter are stored in a table called `cal_fb.csv`."
   ]
  },
  {
   "cell_type": "code",
   "execution_count": 40,
   "id": "60990016",
   "metadata": {
    "deletable": false,
    "editable": false,
    "execution": {
     "iopub.execute_input": "2022-02-16T22:50:21.480807Z",
     "iopub.status.busy": "2022-02-16T22:50:21.480011Z",
     "iopub.status.idle": "2022-02-16T22:50:21.493856Z",
     "shell.execute_reply": "2022-02-16T22:50:21.493248Z"
    }
   },
   "outputs": [
    {
     "data": {
      "text/html": [
       "<table border=\"1\" class=\"dataframe\">\n",
       "    <thead>\n",
       "        <tr>\n",
       "            <th>Opponent</th> <th>Cal 1Q</th> <th>Cal 2Q</th> <th>Cal 3Q</th> <th>Cal 4Q</th> <th>Opp 1Q</th> <th>Opp 2Q</th> <th>Opp 3Q</th> <th>Opp 4Q</th>\n",
       "        </tr>\n",
       "    </thead>\n",
       "    <tbody>\n",
       "        <tr>\n",
       "            <td>Nevada          </td> <td>14    </td> <td>0     </td> <td>0     </td> <td>3     </td> <td>0     </td> <td>13    </td> <td>9     </td> <td>0     </td>\n",
       "        </tr>\n",
       "        <tr>\n",
       "            <td>TCU             </td> <td>6     </td> <td>13    </td> <td>0     </td> <td>13    </td> <td>0     </td> <td>14    </td> <td>7     </td> <td>13    </td>\n",
       "        </tr>\n",
       "        <tr>\n",
       "            <td>Sacramento State</td> <td>14    </td> <td>7     </td> <td>14    </td> <td>7     </td> <td>6     </td> <td>0     </td> <td>14    </td> <td>10    </td>\n",
       "        </tr>\n",
       "        <tr>\n",
       "            <td>Washington      </td> <td>7     </td> <td>3     </td> <td>7     </td> <td>7     </td> <td>7     </td> <td>14    </td> <td>3     </td> <td>7     </td>\n",
       "        </tr>\n",
       "        <tr>\n",
       "            <td>Washington State</td> <td>6     </td> <td>0     </td> <td>0     </td> <td>0     </td> <td>14    </td> <td>0     </td> <td>7     </td> <td>0     </td>\n",
       "        </tr>\n",
       "        <tr>\n",
       "            <td>Oregon          </td> <td>7     </td> <td>0     </td> <td>3     </td> <td>7     </td> <td>3     </td> <td>7     </td> <td>0     </td> <td>14    </td>\n",
       "        </tr>\n",
       "        <tr>\n",
       "            <td>Colorado        </td> <td>10    </td> <td>13    </td> <td>0     </td> <td>3     </td> <td>0     </td> <td>3     </td> <td>0     </td> <td>0     </td>\n",
       "        </tr>\n",
       "        <tr>\n",
       "            <td>Oregon State    </td> <td>10    </td> <td>7     </td> <td>14    </td> <td>8     </td> <td>0     </td> <td>10    </td> <td>7     </td> <td>8     </td>\n",
       "        </tr>\n",
       "        <tr>\n",
       "            <td>Arizona         </td> <td>0     </td> <td>0     </td> <td>3     </td> <td>0     </td> <td>0     </td> <td>0     </td> <td>3     </td> <td>7     </td>\n",
       "        </tr>\n",
       "        <tr>\n",
       "            <td>Stanford        </td> <td>0     </td> <td>14    </td> <td>13    </td> <td>14    </td> <td>0     </td> <td>3     </td> <td>0     </td> <td>8     </td>\n",
       "        </tr>\n",
       "        <tr>\n",
       "            <td>UCLA            </td> <td>0     </td> <td>14    </td> <td>0     </td> <td>0     </td> <td>3     </td> <td>14    </td> <td>10    </td> <td>15    </td>\n",
       "        </tr>\n",
       "        <tr>\n",
       "            <td>USC             </td> <td>3     </td> <td>14    </td> <td>0     </td> <td>7     </td> <td>0     </td> <td>7     </td> <td>0     </td> <td>7     </td>\n",
       "        </tr>\n",
       "    </tbody>\n",
       "</table>"
      ],
      "text/plain": [
       "<IPython.core.display.HTML object>"
      ]
     },
     "metadata": {},
     "output_type": "display_data"
    }
   ],
   "source": [
    "# Just run this cell\n",
    "# Read in the cal_fb csv file\n",
    "games = Table().read_table(\"cal_fb.csv\")\n",
    "games.show()"
   ]
  },
  {
   "cell_type": "markdown",
   "id": "81c4fd1d",
   "metadata": {},
   "source": [
    "Let's start by finding the total points each team scored in a game.\n",
    "\n",
    "**Question 1.** Write a function called `sum_scores`.  It should take four arguments, where each argument represents integers corresponding to the team's score for each quarter. It should return the team's total score for that game. **(20 Points)**\n",
    "\n",
    "*Note:* Don't overthink this question!\n",
    "\n"
   ]
  },
  {
   "cell_type": "code",
   "execution_count": 41,
   "id": "7160d57f",
   "metadata": {
    "execution": {
     "iopub.execute_input": "2022-02-16T22:50:21.500140Z",
     "iopub.status.busy": "2022-02-16T22:50:21.499476Z",
     "iopub.status.idle": "2022-02-16T22:50:21.503043Z",
     "shell.execute_reply": "2022-02-16T22:50:21.502615Z"
    },
    "tags": []
   },
   "outputs": [
    {
     "data": {
      "text/plain": [
       "24"
      ]
     },
     "execution_count": 41,
     "metadata": {},
     "output_type": "execute_result"
    }
   ],
   "source": [
    "#a football game is divided into 4 quarters.\n",
    "#this table is looking at 2021 season games of cal berkeley vs other colleges\n",
    "#takes points for each quarter of a team's game and sums them.\n",
    "\n",
    "def sum_scores(qOne, qTwo, qThree, qFour):\n",
    "    '''Returns the total score calculated by adding up the score of each quarter'''\n",
    "    return qOne + qTwo + qThree + qFour\n",
    "\n",
    "sum_scores(14, 7, 3, 0) #DO NOT CHANGE THIS LINE"
   ]
  },
  {
   "cell_type": "code",
   "execution_count": 42,
   "id": "1baf9054",
   "metadata": {
    "deletable": false,
    "editable": false
   },
   "outputs": [
    {
     "data": {
      "text/html": [
       "<p><strong><pre style='display: inline;'>q1_1</pre></strong> passed! 🚀</p>"
      ],
      "text/plain": [
       "q1_1 results: All test cases passed!"
      ]
     },
     "execution_count": 42,
     "metadata": {},
     "output_type": "execute_result"
    }
   ],
   "source": [
    "grader.check(\"q1_1\")"
   ]
  },
  {
   "cell_type": "markdown",
   "id": "772a4602",
   "metadata": {},
   "source": [
    "**Question 2.** Create a new table `final_scores` with three columns in this *specific* order: `Opponent`, `Cal Score`, `Opponent Score`. You will have to create the `Cal Score` and `Opponent Score` columns. Use the function `sum_scores` you just defined in the previous question for this problem. **(20 Points)**\n",
    "\n",
    "*Hint:* If you want to apply a function that takes in multiple arguments, you can pass multiple column names as arguments in `tbl.apply()`. The column values will be passed into the corresponding arguments of the function. Take a look at the Python Reference Sheet and Lecture 13's demo for syntax.\n",
    "\n",
    "*Note:* If you’re running into issues creating `final_scores`, check that `cal_scores` and `opponent_scores` output what you want. \n"
   ]
  },
  {
   "cell_type": "code",
   "execution_count": 43,
   "id": "96c9c5c7",
   "metadata": {
    "execution": {
     "iopub.execute_input": "2022-02-16T22:50:21.528539Z",
     "iopub.status.busy": "2022-02-16T22:50:21.527939Z",
     "iopub.status.idle": "2022-02-16T22:50:21.532020Z",
     "shell.execute_reply": "2022-02-16T22:50:21.531493Z"
    },
    "tags": []
   },
   "outputs": [
    {
     "data": {
      "text/html": [
       "<table border=\"1\" class=\"dataframe\">\n",
       "    <thead>\n",
       "        <tr>\n",
       "            <th>Opponent</th> <th>Cal Score</th> <th>Opponent Score</th>\n",
       "        </tr>\n",
       "    </thead>\n",
       "    <tbody>\n",
       "        <tr>\n",
       "            <td>Nevada          </td> <td>17       </td> <td>22            </td>\n",
       "        </tr>\n",
       "        <tr>\n",
       "            <td>TCU             </td> <td>32       </td> <td>34            </td>\n",
       "        </tr>\n",
       "        <tr>\n",
       "            <td>Sacramento State</td> <td>42       </td> <td>30            </td>\n",
       "        </tr>\n",
       "        <tr>\n",
       "            <td>Washington      </td> <td>24       </td> <td>31            </td>\n",
       "        </tr>\n",
       "        <tr>\n",
       "            <td>Washington State</td> <td>6        </td> <td>21            </td>\n",
       "        </tr>\n",
       "        <tr>\n",
       "            <td>Oregon          </td> <td>17       </td> <td>24            </td>\n",
       "        </tr>\n",
       "        <tr>\n",
       "            <td>Colorado        </td> <td>26       </td> <td>3             </td>\n",
       "        </tr>\n",
       "        <tr>\n",
       "            <td>Oregon State    </td> <td>39       </td> <td>25            </td>\n",
       "        </tr>\n",
       "        <tr>\n",
       "            <td>Arizona         </td> <td>3        </td> <td>10            </td>\n",
       "        </tr>\n",
       "        <tr>\n",
       "            <td>Stanford        </td> <td>41       </td> <td>11            </td>\n",
       "        </tr>\n",
       "        <tr>\n",
       "            <td>UCLA            </td> <td>14       </td> <td>42            </td>\n",
       "        </tr>\n",
       "        <tr>\n",
       "            <td>USC             </td> <td>24       </td> <td>14            </td>\n",
       "        </tr>\n",
       "    </tbody>\n",
       "</table>"
      ],
      "text/plain": [
       "<IPython.core.display.HTML object>"
      ]
     },
     "metadata": {},
     "output_type": "display_data"
    }
   ],
   "source": [
    "cal_scores = games.apply(sum_scores, \"Cal 1Q\", \"Cal 2Q\", \"Cal 3Q\", \"Cal 4Q\")\n",
    "opponent_scores = games.apply(sum_scores, \"Opp 1Q\", \"Opp 2Q\", \"Opp 3Q\", \"Opp 4Q\")\n",
    "final_scores = games.select(0).with_columns(\n",
    "    \"Cal Score\", cal_scores,\n",
    "    \"Opponent Score\", opponent_scores\n",
    "        )\n",
    "final_scores.show()\n",
    "\n",
    "#final scores:\n",
    "#Opponent     Cal Score                          Opponent Score\n",
    "#team name    add all quarter for that game      add all quarter for that game"
   ]
  },
  {
   "cell_type": "code",
   "execution_count": 44,
   "id": "748b652f",
   "metadata": {
    "deletable": false,
    "editable": false
   },
   "outputs": [
    {
     "data": {
      "text/html": [
       "<p><strong><pre style='display: inline;'>q1_2</pre></strong> passed! 🌈</p>"
      ],
      "text/plain": [
       "q1_2 results: All test cases passed!"
      ]
     },
     "execution_count": 44,
     "metadata": {},
     "output_type": "execute_result"
    }
   ],
   "source": [
    "grader.check(\"q1_2\")"
   ]
  },
  {
   "cell_type": "markdown",
   "id": "76b7e325",
   "metadata": {},
   "source": [
    "We can get specific row objects from a table. You can use `tbl.row(n)` to get the `n`th row of a table. `row.item(\"column_name\")` will allow you to select the element that corresponds to `column_name` in a particular row. Here's an example:"
   ]
  },
  {
   "cell_type": "code",
   "execution_count": 45,
   "id": "1004a711",
   "metadata": {
    "deletable": false,
    "editable": false,
    "execution": {
     "iopub.execute_input": "2022-02-16T22:50:21.589149Z",
     "iopub.status.busy": "2022-02-16T22:50:21.588621Z",
     "iopub.status.idle": "2022-02-16T22:50:21.592001Z",
     "shell.execute_reply": "2022-02-16T22:50:21.591581Z"
    }
   },
   "outputs": [
    {
     "data": {
      "text/plain": [
       "Row(Opponent='Stanford', Cal 1Q=0, Cal 2Q=14, Cal 3Q=13, Cal 4Q=14, Opp 1Q=0, Opp 2Q=3, Opp 3Q=0, Opp 4Q=8)"
      ]
     },
     "execution_count": 45,
     "metadata": {},
     "output_type": "execute_result"
    }
   ],
   "source": [
    "# Just run this cell\n",
    "# We got the Axe!\n",
    "games.row(9)"
   ]
  },
  {
   "cell_type": "code",
   "execution_count": 46,
   "id": "8dd2ba7e",
   "metadata": {
    "deletable": false,
    "editable": false,
    "execution": {
     "iopub.execute_input": "2022-02-16T22:50:21.597067Z",
     "iopub.status.busy": "2022-02-16T22:50:21.596590Z",
     "iopub.status.idle": "2022-02-16T22:50:21.600251Z",
     "shell.execute_reply": "2022-02-16T22:50:21.599728Z"
    }
   },
   "outputs": [
    {
     "data": {
      "text/plain": [
       "14"
      ]
     },
     "execution_count": 46,
     "metadata": {},
     "output_type": "execute_result"
    }
   ],
   "source": [
    "# Just run this cell\n",
    "games.row(9).item(\"Cal 4Q\")"
   ]
  },
  {
   "cell_type": "markdown",
   "id": "0c23aefb",
   "metadata": {},
   "source": [
    "**Question 3.** We want to see for a particular game whether or not Cal lost. Write a function called `did_cal_lose`.  It should take one argument: a **row object** from the `final_scores` table. It should return either `True` if Cal's score was less than the Opponent's score, and `False` otherwise. **(20 Points)**\n",
    "\n",
    "*Note 1*: \"Row object\" means a row from the table that contains all the data for that specific row. It is **not** the index of a row. Do not try and call `final_scores.row(row)` inside of the function.\n",
    "\n",
    "*Note 2*: If you're still confused by row objects, try printing out `final_scores.row(1)` in a new cell to visually see what it looks like! This piece of code is pulling out the row object located at index 1 of the `final_scores` table and returning it. When you display it in a cell, you'll see that it is not located within a table, but is instead a standalone row object!\n"
   ]
  },
  {
   "cell_type": "code",
   "execution_count": 47,
   "id": "6b6f8b62",
   "metadata": {
    "execution": {
     "iopub.execute_input": "2022-02-16T22:50:21.606018Z",
     "iopub.status.busy": "2022-02-16T22:50:21.605432Z",
     "iopub.status.idle": "2022-02-16T22:50:21.608945Z",
     "shell.execute_reply": "2022-02-16T22:50:21.608474Z"
    },
    "tags": []
   },
   "outputs": [
    {
     "data": {
      "text/plain": [
       "True"
      ]
     },
     "execution_count": 47,
     "metadata": {},
     "output_type": "execute_result"
    }
   ],
   "source": [
    "def did_cal_lose(row):\n",
    "    if row.item(\"Cal Score\") < row.item(\"Opponent Score\"):\n",
    "        return True\n",
    "    else:\n",
    "        return False\n",
    "\n",
    "did_cal_lose(final_scores.row(1)) #DO NOT CHANGE THIS LINE"
   ]
  },
  {
   "cell_type": "code",
   "execution_count": 48,
   "id": "ec54d499",
   "metadata": {
    "deletable": false,
    "editable": false
   },
   "outputs": [
    {
     "data": {
      "text/html": [
       "<p><strong><pre style='display: inline;'>q1_3</pre></strong> passed! 🙌</p>"
      ],
      "text/plain": [
       "q1_3 results: All test cases passed!"
      ]
     },
     "execution_count": 48,
     "metadata": {},
     "output_type": "execute_result"
    }
   ],
   "source": [
    "grader.check(\"q1_3\")"
   ]
  },
  {
   "cell_type": "markdown",
   "id": "e368074a",
   "metadata": {},
   "source": [
    "**Question 4.** James wants to see how Cal did against every opponent during the 2021 season. Using the `final_scores` table:\n",
    "\n",
    "1. Assign `results` to an array of `True` and `False` values that correspond to whether or not Cal lost.\n",
    "2. Add the `results` array to the `final_scores` table in a column named `Results`, and assign this to `final_scores_with_results`.\n",
    "3. Then, respectively assign the number of wins and losses Cal had to `cal_wins` and `cal_losses`.\n",
    "\n",
    "**(20 Points)**\n",
    "\n",
    "*Hint 1*: `True` and `False` are **not** strings. What data type are they?\n",
    "\n",
    "*Hint 2*: `tbl.num_rows` might be helpful too.\n",
    "\n",
    "*Hint 3*: When you only pass a function name and no column labels through `tbl.apply()`, the function gets applied to every row in `tbl`.\n",
    "\n"
   ]
  },
  {
   "cell_type": "code",
   "execution_count": 49,
   "id": "8fdb1c13",
   "metadata": {
    "execution": {
     "iopub.execute_input": "2022-02-16T22:50:21.640543Z",
     "iopub.status.busy": "2022-02-16T22:50:21.640001Z",
     "iopub.status.idle": "2022-02-16T22:50:21.643598Z",
     "shell.execute_reply": "2022-02-16T22:50:21.642863Z"
    },
    "tags": []
   },
   "outputs": [
    {
     "name": "stdout",
     "output_type": "stream",
     "text": [
      "In the 2021 Season, Cal Football won 5 games and lost 7 games. Go Bears! 🐻\n"
     ]
    }
   ],
   "source": [
    "results = make_array()\n",
    "\n",
    "for i in np.arange(12):\n",
    "    x = did_cal_lose(final_scores.row(i))\n",
    "    results = np.append(results, x)\n",
    "    \n",
    "    \n",
    "final_scores_with_results = final_scores.with_column(\"Results\", results)\n",
    "cal_losses = np.count_nonzero(results)\n",
    "cal_wins = final_scores.num_rows - cal_losses\n",
    "\n",
    "#results\n",
    "\n",
    "\n",
    "\n",
    "\n",
    "#1 = T = Loss\n",
    "#0 = F = Win\n",
    "# Don't delete or edit the following line:\n",
    "print(f\"In the 2021 Season, Cal Football won {cal_wins} games and lost {cal_losses} games. Go Bears! 🐻\")"
   ]
  },
  {
   "cell_type": "code",
   "execution_count": 50,
   "id": "76c3b679",
   "metadata": {
    "deletable": false,
    "editable": false
   },
   "outputs": [
    {
     "data": {
      "text/html": [
       "<p><strong><pre style='display: inline;'>q1_4</pre></strong> passed! 🎉</p>"
      ],
      "text/plain": [
       "q1_4 results: All test cases passed!"
      ]
     },
     "execution_count": 50,
     "metadata": {},
     "output_type": "execute_result"
    }
   ],
   "source": [
    "grader.check(\"q1_4\")"
   ]
  },
  {
   "cell_type": "markdown",
   "id": "73834e81",
   "metadata": {},
   "source": [
    "**Question 5:** Sometimes in football the two teams are equally matched and the game is quite close. Other times, it is a blowout, where the winning team wins by a large margin of victory. Let's define a **big win** to be a game in which the winning team won by more than 10 points.\n",
    "\n",
    "Use your `final_scores` table to assign `big_wins` to an array of team names that Cal had big wins against during the 2021 football season. You may find the `is_big_win` function defined below helpful to you! **(20 Points)**\n"
   ]
  },
  {
   "cell_type": "code",
   "execution_count": 51,
   "id": "ed5b7cee",
   "metadata": {
    "execution": {
     "iopub.execute_input": "2022-02-16T22:50:21.720329Z",
     "iopub.status.busy": "2022-02-16T22:50:21.719719Z",
     "iopub.status.idle": "2022-02-16T22:50:21.722589Z",
     "shell.execute_reply": "2022-02-16T22:50:21.722968Z"
    },
    "tags": []
   },
   "outputs": [
    {
     "data": {
      "text/plain": [
       "array(['Sacramento State', 'Colorado', 'Oregon State', 'Stanford'],\n",
       "      dtype='<U32')"
      ]
     },
     "execution_count": 51,
     "metadata": {},
     "output_type": "execute_result"
    }
   ],
   "source": [
    "def is_big_win(row): #Row(Opponent='Nevada', Cal Score=17, Opponent Score=22)\n",
    "    '''Return a boolean to describe whether or not a game (row) is a big win'''\n",
    "    score_diff = row.item(\"Cal Score\") - row.item(\"Opponent Score\")\n",
    "    \n",
    "    if score_diff > 10:\n",
    "        return True\n",
    "    else:\n",
    "        return False\n",
    "\n",
    "big_wins = make_array() #empty array.\n",
    "\n",
    "for row in final_scores.rows: # This will help us iterate through rows of final_scores table\n",
    "    opponent = row.item(\"Opponent\") #on row x. item \"opponent\" gets team name.\n",
    "    if is_big_win(row) == True: #pass entire row and return t or f based on big L or not.\n",
    "        big_wins = np.append(big_wins, opponent) # Do not change this line - Adds character to the end of some_string\n",
    "big_wins"
   ]
  },
  {
   "cell_type": "code",
   "execution_count": 15,
   "id": "392086e3",
   "metadata": {
    "deletable": false,
    "editable": false
   },
   "outputs": [
    {
     "data": {
      "text/html": [
       "<p><strong><pre style='display: inline;'>q1_5</pre></strong> passed! 🌟</p>"
      ],
      "text/plain": [
       "q1_5 results: All test cases passed!"
      ]
     },
     "execution_count": 15,
     "metadata": {},
     "output_type": "execute_result"
    }
   ],
   "source": [
    "grader.check(\"q1_5\")"
   ]
  },
  {
   "cell_type": "markdown",
   "id": "e86c75af",
   "metadata": {},
   "source": [
    "You're done with the required section of Homework 5! Continue on to the optional section for some more practice with iterations and for loops.\n",
    "\n",
    "Make sure to **run the submit cell located at the bottom of this notebook.**"
   ]
  },
  {
   "cell_type": "markdown",
   "id": "259bdc8f",
   "metadata": {},
   "source": [
    "## 2. Unrolling Loops (Optional)"
   ]
  },
  {
   "cell_type": "markdown",
   "id": "16ecc182",
   "metadata": {},
   "source": [
    "**This section of HW5 is optional. Do it for your own practice, but it will not be incorporated into the final grading!**\n",
    "\n",
    "\"Unrolling\" a `for` loop means to manually write out all the code that it executes.  The result is code that does the same thing as the loop, but without the structure of the loop.  For example, for the following loop:\n",
    "\n",
    "    for num in np.arange(3):\n",
    "        print(\"The number is\", num)\n",
    "\n",
    "The unrolled version would look like this:\n",
    "\n",
    "    print(\"The number is\", 0)\n",
    "    print(\"The number is\", 1)\n",
    "    print(\"The number is\", 2)\n",
    "\n",
    "\n",
    "Unrolling a `for` loop is a great way to understand what the loop is doing during each step. In this exercise, you'll practice unrolling a `for` loop.\n",
    "\n",
    "\n",
    "In the question below, write code that does the same thing as the given code, but with any `for` loops unrolled.  It's a good idea to run both your answer and the original code to verify that they do the same thing.  (Of course, if the code does something random, you'll get a different random outcome than the original code!)"
   ]
  },
  {
   "cell_type": "markdown",
   "id": "5b4eda11",
   "metadata": {},
   "source": [
    "**Optional Question 1.** Unroll the code below."
   ]
  },
  {
   "cell_type": "code",
   "execution_count": null,
   "id": "e0f56a33",
   "metadata": {
    "execution": {
     "iopub.execute_input": "2022-02-16T22:50:21.751270Z",
     "iopub.status.busy": "2022-02-16T22:50:21.750621Z",
     "iopub.status.idle": "2022-02-16T22:50:21.787773Z",
     "shell.execute_reply": "2022-02-16T22:50:21.787271Z"
    }
   },
   "outputs": [],
   "source": [
    "for joke_iteration in np.arange(3):\n",
    "    print(\"Knock, knock.\")\n",
    "    print(\"Who's there?\")\n",
    "    print(\"Banana.\")\n",
    "    print(\"Banana who?\")\n",
    "print(\"Knock, knock.\")\n",
    "print(\"Who's there?\")\n",
    "print(\"Orange.\")\n",
    "print(\"Orange who?\")\n",
    "print(\"Orange you glad I didn't say banana?\")"
   ]
  },
  {
   "cell_type": "code",
   "execution_count": null,
   "id": "53dec5da",
   "metadata": {
    "execution": {
     "iopub.execute_input": "2022-02-16T22:50:21.794285Z",
     "iopub.status.busy": "2022-02-16T22:50:21.793534Z",
     "iopub.status.idle": "2022-02-16T22:50:21.799135Z",
     "shell.execute_reply": "2022-02-16T22:50:21.798688Z"
    },
    "for_assignment_type": "solution",
    "tags": []
   },
   "outputs": [],
   "source": [
    "..."
   ]
  },
  {
   "cell_type": "markdown",
   "id": "8b41b37c",
   "metadata": {},
   "source": [
    "Congratulations, you are done with Homework 5!\n",
    "\n",
    "**Important submission steps:** \n",
    "1. Run the tests and verify that they all pass.\n",
    "2. Choose **Save Notebook** from the **File** menu, then **run the final cell**. \n",
    "3. Click the link to download the zip file.\n",
    "4. Then submit the zip file to the corresponding assignment according to your instructor's directions. \n",
    "\n",
    "**It is your responsibility to make sure your work is saved before running the last cell.** "
   ]
  },
  {
   "cell_type": "markdown",
   "id": "cf85c82e",
   "metadata": {
    "deletable": false,
    "editable": false
   },
   "source": [
    "## Submission\n",
    "\n",
    "Make sure you have run all cells in your notebook in order before running the cell below, so that all images/graphs appear in the output. The cell below will generate a zip file for you to submit. **Please save before exporting!**"
   ]
  },
  {
   "cell_type": "code",
   "execution_count": null,
   "id": "6e0c2ad4",
   "metadata": {
    "deletable": false,
    "editable": false
   },
   "outputs": [],
   "source": [
    "# Save your notebook first, then run this cell to export your submission.\n",
    "grader.export(pdf=False, run_tests=True)"
   ]
  },
  {
   "cell_type": "markdown",
   "id": "04ccd402",
   "metadata": {},
   "source": [
    " "
   ]
  }
 ],
 "metadata": {
  "kernelspec": {
   "display_name": "Python 3 (ipykernel)",
   "language": "python",
   "name": "python3"
  },
  "language_info": {
   "codemirror_mode": {
    "name": "ipython",
    "version": 3
   },
   "file_extension": ".py",
   "mimetype": "text/x-python",
   "name": "python",
   "nbconvert_exporter": "python",
   "pygments_lexer": "ipython3",
   "version": "3.10.11"
  },
  "otter": {
   "OK_FORMAT": true,
   "tests": {
    "q1_1": {
     "name": "q1_1",
     "points": [
      10,
      10
     ],
     "suites": [
      {
       "cases": [
        {
         "code": ">>> sum_scores(2, 3, 6, 1)\n12",
         "hidden": false,
         "locked": false
        },
        {
         "code": ">>> sum_scores(-2,3,5,-10)\n-4",
         "hidden": false,
         "locked": false
        }
       ],
       "scored": true,
       "setup": "",
       "teardown": "",
       "type": "doctest"
      }
     ]
    },
    "q1_2": {
     "name": "q1_2",
     "points": [
      0,
      0
     ],
     "suites": [
      {
       "cases": [
        {
         "code": ">>> final_scores.num_columns\n3",
         "hidden": false,
         "locked": false
        },
        {
         "code": ">>> set(['Opponent', 'Cal Score', 'Opponent Score']) == set(final_scores.labels)\nTrue",
         "hidden": false,
         "locked": false
        }
       ],
       "scored": true,
       "setup": "",
       "teardown": "",
       "type": "doctest"
      }
     ]
    },
    "q1_3": {
     "name": "q1_3",
     "points": [
      0,
      10
     ],
     "suites": [
      {
       "cases": [
        {
         "code": ">>> 'did_cal_lose' in globals()\nTrue",
         "hidden": false,
         "locked": false
        },
        {
         "code": ">>> did_cal_lose(final_scores.row(1))\nTrue",
         "hidden": false,
         "locked": false
        }
       ],
       "scored": true,
       "setup": "",
       "teardown": "",
       "type": "doctest"
      }
     ]
    },
    "q1_4": {
     "name": "q1_4",
     "points": [
      0,
      0
     ],
     "suites": [
      {
       "cases": [
        {
         "code": ">>> 0 <= cal_wins <= 10\nTrue",
         "hidden": false,
         "locked": false
        },
        {
         "code": ">>> 0 <= cal_losses <= 10\nTrue",
         "hidden": false,
         "locked": false
        }
       ],
       "scored": true,
       "setup": "",
       "teardown": "",
       "type": "doctest"
      }
     ]
    },
    "q1_5": {
     "name": "q1_5",
     "points": [
      5,
      5
     ],
     "suites": [
      {
       "cases": [
        {
         "code": ">>> is_big_win(final_scores.row(2)) is True\nTrue",
         "hidden": false,
         "locked": false
        },
        {
         "code": ">>> # Make sure big_wins is an array.\n>>> import numpy as np\n>>> type(big_wins) == np.ndarray\nTrue",
         "hidden": false,
         "locked": false
        }
       ],
       "scored": true,
       "setup": "",
       "teardown": "",
       "type": "doctest"
      }
     ]
    }
   }
  }
 },
 "nbformat": 4,
 "nbformat_minor": 5
}
